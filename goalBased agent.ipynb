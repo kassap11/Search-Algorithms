{
 "cells": [
  {
   "cell_type": "code",
   "execution_count": 10,
   "id": "914cd741",
   "metadata": {},
   "outputs": [
    {
     "name": "stdout",
     "output_type": "stream",
     "text": [
      "cleanedA\n",
      "location is moved to B\n",
      "cleanedB\n",
      "location is moved to A\n",
      "{'A': 'clean', 'B': 'clean'}\n"
     ]
    }
   ],
   "source": [
    "class vacum_goal:\n",
    "    def __init__(self):\n",
    "        self.models={\"A\":\"dirty\",\"B\":\"dirty\"}\n",
    "        self.goal={\"A\":\"clean\",\"B\":\"clean\"}\n",
    "        self.current_location=\"A\"\n",
    "    def update(self,location,state):\n",
    "        self.models[location]=state\n",
    "    def clean(self):\n",
    "        self.update(self.current_location,\"clean\")\n",
    "        print(f\"cleaned{self.current_location}\")\n",
    "    def move(self):\n",
    "         \n",
    "        if self.current_location==\"A\":\n",
    "            self.current_location=\"B\"\n",
    "        else:\n",
    "            self.current_location=\"A\"\n",
    "        print(f\"location is moved to {self.current_location}\")\n",
    "    def run(self):\n",
    "        while self.models !=self.goal:\n",
    "            self.clean()\n",
    "            self.move()\n",
    "z1=vacum_goal()\n",
    "z1.run()\n",
    "print(z1.models)"
   ]
  },
  {
   "cell_type": "code",
   "execution_count": null,
   "id": "a293ff75",
   "metadata": {},
   "outputs": [],
   "source": []
  }
 ],
 "metadata": {
  "kernelspec": {
   "display_name": "Python 3 (ipykernel)",
   "language": "python",
   "name": "python3"
  },
  "language_info": {
   "codemirror_mode": {
    "name": "ipython",
    "version": 3
   },
   "file_extension": ".py",
   "mimetype": "text/x-python",
   "name": "python",
   "nbconvert_exporter": "python",
   "pygments_lexer": "ipython3",
   "version": "3.11.5"
  }
 },
 "nbformat": 4,
 "nbformat_minor": 5
}
