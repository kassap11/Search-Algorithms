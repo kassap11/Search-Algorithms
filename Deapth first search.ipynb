{
 "cells": [
  {
   "cell_type": "code",
   "execution_count": 3,
   "id": "fec50fad",
   "metadata": {},
   "outputs": [
    {
     "name": "stdout",
     "output_type": "stream",
     "text": [
      "queue :  [['S', 'A'], ['S', 'B'], ['S', 'D']]\n",
      "queue :  [['S', 'A'], ['S', 'B'], ['S', 'D', 'G']]\n",
      "['S', 'D', 'G']\n"
     ]
    }
   ],
   "source": [
    "\n",
    "graph={\n",
    "    'S':['A','B','D'],\n",
    "    'A':['C'],\n",
    "    'B':['D'],\n",
    "    'C':['D','G'],\n",
    "    'D':['G']\n",
    "}\n",
    "\n",
    "def dfs(graph,start,goal):\n",
    "    stack=[[start]]\n",
    "    visited=[]\n",
    "    #while queue is not empty\n",
    "    while stack:\n",
    "        path=stack.pop()\n",
    "        node=path[-1]\n",
    "        if node==goal:\n",
    "            return path\n",
    "        if path not in visited:\n",
    "            visited.append(path)\n",
    "            childern=graph.get(node,[])\n",
    "        for child in childern:\n",
    "            #queue not empty while node does not have goal\n",
    "            stack.append(path+[child])\n",
    "        print(\"queue : \" ,stack)\n",
    "print(dfs(graph,\"S\",\"G\"))"
   ]
  },
  {
   "cell_type": "code",
   "execution_count": null,
   "id": "86cb90ea",
   "metadata": {},
   "outputs": [],
   "source": []
  }
 ],
 "metadata": {
  "kernelspec": {
   "display_name": "Python 3 (ipykernel)",
   "language": "python",
   "name": "python3"
  },
  "language_info": {
   "codemirror_mode": {
    "name": "ipython",
    "version": 3
   },
   "file_extension": ".py",
   "mimetype": "text/x-python",
   "name": "python",
   "nbconvert_exporter": "python",
   "pygments_lexer": "ipython3",
   "version": "3.11.5"
  }
 },
 "nbformat": 4,
 "nbformat_minor": 5
}
