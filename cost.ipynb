{
 "cells": [
  {
   "cell_type": "code",
   "execution_count": null,
   "id": "49338015",
   "metadata": {},
   "outputs": [],
   "source": [
    "def path_cost(path):\n",
    " \n",
    "    return sum(cost for _, cost in path)\n",
    "\n",
    "def cost(graph, start, goal):\n",
    "    visited = set()  # Use a set for O(1) lookup\n",
    "    queue = [[(start, 0)]]  # Priority queue initialized with the start node\n",
    "    \n",
    "    while queue:\n",
    "        queue.sort(key=path_cost)  # Sort paths by cumulative cost\n",
    "        path = queue.pop(0)  # Get the path with the lowest cost\n",
    "        node = path[-1][0]  # Get the current node\n",
    "        \n",
    "        if node in visited:\n",
    "            continue\n",
    "        visited.add(node)\n",
    "        \n",
    "        if node == goal:\n",
    "            return path  # Return the full path to the goal\n",
    "        \n",
    "        # Explore adjacent nodes\n",
    "        for (neighbor, cost) in graph.get(node, []):\n",
    "            if neighbor not in visited:\n",
    "                new_path = path.copy()\n",
    "                new_path.append((neighbor, cost))\n",
    "                queue.append(new_path)\n",
    "                \n",
    "    return None  # Return None if no path exists\n"
   ]
  }
 ],
 "metadata": {
  "kernelspec": {
   "display_name": "Python 3 (ipykernel)",
   "language": "python",
   "name": "python3"
  },
  "language_info": {
   "codemirror_mode": {
    "name": "ipython",
    "version": 3
   },
   "file_extension": ".py",
   "mimetype": "text/x-python",
   "name": "python",
   "nbconvert_exporter": "python",
   "pygments_lexer": "ipython3",
   "version": "3.11.5"
  }
 },
 "nbformat": 4,
 "nbformat_minor": 5
}
