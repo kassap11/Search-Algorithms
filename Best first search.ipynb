{
 "cells": [
  {
   "cell_type": "code",
   "execution_count": 1,
   "id": "1826f485",
   "metadata": {},
   "outputs": [],
   "source": [
    "graph = {\n",
    "    'S': [('A', 5), ('B', 5)],\n",
    "    'A': [('G', 5)],\n",
    "    'B': [('C', 2), ('D', 3)],\n",
    "    'C': [('G', 4)],\n",
    "    'D': [('G', 3)],\n",
    "}\n"
   ]
  },
  {
   "cell_type": "code",
   "execution_count": 2,
   "id": "a07e6f96",
   "metadata": {},
   "outputs": [],
   "source": [
    "H_table = {\n",
    "    'S': 7,\n",
    "    'A': 6,\n",
    "    'B': 4,\n",
    "    'C': 3,\n",
    "    'D': 2,\n",
    "    'G': 0\n",
    "}"
   ]
  },
  {
   "cell_type": "code",
   "execution_count": 3,
   "id": "037a75a2",
   "metadata": {},
   "outputs": [],
   "source": [
    "def path_H_cost(path):\n",
    "    last_node = path[-1][0]\n",
    "    H_cost = H_table[last_node]\n",
    "    return H_cost, last_node\n"
   ]
  },
  {
   "cell_type": "code",
   "execution_count": 4,
   "id": "90903228",
   "metadata": {},
   "outputs": [
    {
     "name": "stdout",
     "output_type": "stream",
     "text": [
      "Solution is [('S', 0), ('B', 5), ('D', 3), ('G', 3)]\n"
     ]
    }
   ],
   "source": [
    "def best_first_search(graph, start, goal):\n",
    "    visited = []\n",
    "    queue = [[(start, 0)]]\n",
    "    while queue:\n",
    "        queue.sort(key=path_H_cost)\n",
    "        path = queue.pop(0)\n",
    "        node = path[-1][0]\n",
    "        if node in visited:\n",
    "            continue\n",
    "        visited.append(node)\n",
    "        if node == goal:\n",
    "            return path\n",
    "        adj_nodes = graph.get(node, [])\n",
    "        for (node2, cost) in adj_nodes:\n",
    "            queue.append(path + [(node2, cost)])\n",
    "\n",
    "solution = best_first_search(graph, 'S', 'G')\n",
    "print('Solution is', solution)\n"
   ]
  },
  {
   "cell_type": "code",
   "execution_count": null,
   "id": "0c69dac2",
   "metadata": {},
   "outputs": [],
   "source": []
  }
 ],
 "metadata": {
  "kernelspec": {
   "display_name": "Python 3 (ipykernel)",
   "language": "python",
   "name": "python3"
  },
  "language_info": {
   "codemirror_mode": {
    "name": "ipython",
    "version": 3
   },
   "file_extension": ".py",
   "mimetype": "text/x-python",
   "name": "python",
   "nbconvert_exporter": "python",
   "pygments_lexer": "ipython3",
   "version": "3.11.5"
  }
 },
 "nbformat": 4,
 "nbformat_minor": 5
}
