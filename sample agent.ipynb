{
 "cells": [
  {
   "cell_type": "code",
   "execution_count": null,
   "id": "410119e0",
   "metadata": {},
   "outputs": [],
   "source": [
    "class vacumCleaner():\n",
    "    def __init__(self):\n",
    "        self.locations={\"a\":1,\"b\":1}\n",
    "        self.current_location='a'\n",
    "    def is_dirty(self):\n",
    "        return self.locations[self.current_location]==1\n",
    "    def clean(self):\n",
    "        if self.is_dirty():\n",
    "            self.locations[self.current_location]=0\n",
    "            print(f\"cleaned location{self.current_location}\")\n",
    "    def move(self):\n",
    "        if self.current_location=='a':\n",
    "            self.current_location='b'\n",
    "        else:\n",
    "             self.current_location='a'\n",
    "        print(f\"moved to {self.current_location}\")        \n",
    "    def run(self):\n",
    "         while self.locations['a']==1 or self.locations['b']==1:\n",
    "            self.clean()\n",
    "            self.move()\n",
    "              \n",
    "              \n",
    "              \n",
    "vac=vacumCleaner()\n",
    "vac.run()\n",
    "print(vac.locations)\n",
    "        "
   ]
  }
 ],
 "metadata": {
  "kernelspec": {
   "display_name": "Python 3 (ipykernel)",
   "language": "python",
   "name": "python3"
  },
  "language_info": {
   "codemirror_mode": {
    "name": "ipython",
    "version": 3
   },
   "file_extension": ".py",
   "mimetype": "text/x-python",
   "name": "python",
   "nbconvert_exporter": "python",
   "pygments_lexer": "ipython3",
   "version": "3.11.5"
  }
 },
 "nbformat": 4,
 "nbformat_minor": 5
}
