{
 "cells": [
  {
   "cell_type": "code",
   "execution_count": 4,
   "id": "01064d10",
   "metadata": {},
   "outputs": [],
   "source": [
    "gaph={\n",
    "    'S':['A','B','D'],\n",
    "    'A':['C'],\n",
    "    'B':['D'],\n",
    "    'C':['D','G'],\n",
    "    'D':['G']\n",
    "}\n"
   ]
  },
  {
   "cell_type": "code",
   "execution_count": 10,
   "id": "5db95c33",
   "metadata": {},
   "outputs": [],
   "source": [
    "def bfs(graph,start,goal):\n",
    "    queue=[[start]]\n",
    "    vistied=[]\n",
    "    while queue:\n",
    "        path=queue.pop(0)\n",
    "        node=path[-1]\n",
    "        if node in vistied:\n",
    "            continue\n",
    "        else:\n",
    "            vistied.append(node)\n",
    "        if node==goal:\n",
    "            return path\n",
    "        adj=graph.get(node,[])\n",
    "        for node2 in adj:\n",
    "            queue.append(path+[node2])\n",
    "            \n",
    "       \n",
    "            \n",
    "        \n",
    "       \n",
    "    "
   ]
  },
  {
   "cell_type": "code",
   "execution_count": 11,
   "id": "6906e294",
   "metadata": {},
   "outputs": [
    {
     "data": {
      "text/plain": [
       "['S', 'D', 'G']"
      ]
     },
     "execution_count": 11,
     "metadata": {},
     "output_type": "execute_result"
    }
   ],
   "source": [
    "bfs(gaph,'S','G')"
   ]
  },
  {
   "cell_type": "code",
   "execution_count": null,
   "id": "0743997f",
   "metadata": {},
   "outputs": [],
   "source": []
  }
 ],
 "metadata": {
  "kernelspec": {
   "display_name": "Python 3 (ipykernel)",
   "language": "python",
   "name": "python3"
  },
  "language_info": {
   "codemirror_mode": {
    "name": "ipython",
    "version": 3
   },
   "file_extension": ".py",
   "mimetype": "text/x-python",
   "name": "python",
   "nbconvert_exporter": "python",
   "pygments_lexer": "ipython3",
   "version": "3.11.5"
  }
 },
 "nbformat": 4,
 "nbformat_minor": 5
}
