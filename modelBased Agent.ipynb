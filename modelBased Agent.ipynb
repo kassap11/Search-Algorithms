{
 "cells": [
  {
   "cell_type": "code",
   "execution_count": 11,
   "id": "d66a06ef",
   "metadata": {},
   "outputs": [
    {
     "name": "stdout",
     "output_type": "stream",
     "text": [
      "location is cleaned A\n",
      "location is moved to B\n",
      "location is cleaned B\n",
      "location is moved to A\n",
      "{'A': 'clean', 'B': 'clean'}\n"
     ]
    }
   ],
   "source": [
    "class vacum:\n",
    "    def __init__(self):\n",
    "        self.model={\"A\":\"dirty\",\"B\":\"dirty\"}\n",
    "        self.current_location=\"A\"\n",
    "    def update(self,location,state):\n",
    "        self.model[location]=state\n",
    "    def clean(self):\n",
    "        self.update(self.current_location,\"clean\")\n",
    "        print(f\"location is cleaned {self.current_location}\")\n",
    "    def move(self):\n",
    "        if self.current_location==\"A\":\n",
    "            self.current_location=\"B\"\n",
    "        else:\n",
    "            self.current_location=\"A\"\n",
    "        print(f\"location is moved to {self.current_location}\")   \n",
    "    def run(self):\n",
    "        while self.model[\"A\"]==\"dirty\" or self.model[\"B\"]==\"dirty\":\n",
    "            self.clean()\n",
    "            self.move()\n",
    "            \n",
    "c1=vacum()\n",
    "c1.run()\n",
    "print(c1.model)"
   ]
  },
  {
   "cell_type": "code",
   "execution_count": null,
   "id": "70b38a4a",
   "metadata": {},
   "outputs": [],
   "source": []
  }
 ],
 "metadata": {
  "kernelspec": {
   "display_name": "Python 3 (ipykernel)",
   "language": "python",
   "name": "python3"
  },
  "language_info": {
   "codemirror_mode": {
    "name": "ipython",
    "version": 3
   },
   "file_extension": ".py",
   "mimetype": "text/x-python",
   "name": "python",
   "nbconvert_exporter": "python",
   "pygments_lexer": "ipython3",
   "version": "3.11.5"
  }
 },
 "nbformat": 4,
 "nbformat_minor": 5
}
