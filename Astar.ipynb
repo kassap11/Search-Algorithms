{
 "cells": [
  {
   "cell_type": "code",
   "execution_count": 13,
   "id": "356780e2",
   "metadata": {},
   "outputs": [],
   "source": [
    "graph={\n",
    "    'S':[('A',1),('B',4)],\n",
    "    'A':[('B',2),('C',5),('G',12)],\n",
    "    'B':[('C',2)],\n",
    "    'C':[('G',3)]\n",
    "}\n",
    "\n",
    "H_table={\n",
    "    'S':7,\n",
    "    'A':6,\n",
    "    'B':4,\n",
    "    'C':2,\n",
    "    'G':0\n",
    "}"
   ]
  },
  {
   "cell_type": "code",
   "execution_count": 14,
   "id": "42782e38",
   "metadata": {},
   "outputs": [],
   "source": [
    "def path_cost(path):\n",
    "    g_coat=0\n",
    "    for (node,cost) in path :\n",
    "        g_coat+=cost\n",
    "    last_node=path[-1][0]\n",
    "    h_cost=H_table[last_node]\n",
    "    f_cost= g_coat+ h_cost\n",
    "    return  f_cost,last_node"
   ]
  },
  {
   "cell_type": "code",
   "execution_count": 15,
   "id": "57b8af65",
   "metadata": {},
   "outputs": [
    {
     "data": {
      "text/plain": [
       "(8, 'C')"
      ]
     },
     "execution_count": 15,
     "metadata": {},
     "output_type": "execute_result"
    }
   ],
   "source": [
    "path=[('S',0),('A',1),('C',5)]\n",
    "path_cost(path)"
   ]
  },
  {
   "cell_type": "code",
   "execution_count": 16,
   "id": "01b81258",
   "metadata": {},
   "outputs": [],
   "source": [
    "def star(graph , start , goal):\n",
    "        visited=[]\n",
    "        queue=[[(start,0)]]\n",
    "        while queue:\n",
    "            queue.sort(key=path_cost)\n",
    "            path=queue.pop(0)\n",
    "            node=path[-1][0]\n",
    "            if node in visited:\n",
    "                continue\n",
    "            visited.append(node)\n",
    "            if node == goal:\n",
    "                return path\n",
    "            else:\n",
    "                adjacent_nodes = graph.get(node,[])\n",
    "                for (node2,cost) in adjacent_nodes:\n",
    "                    new_path=path.copy()\n",
    "                    new_path.append((node2,cost))\n",
    "                    queue.append(new_path)"
   ]
  },
  {
   "cell_type": "code",
   "execution_count": 17,
   "id": "5dad137a",
   "metadata": {},
   "outputs": [
    {
     "name": "stdout",
     "output_type": "stream",
     "text": [
      "[('S', 0), ('A', 1), ('B', 2), ('C', 2), ('G', 3)]\n"
     ]
    }
   ],
   "source": [
    "solution=star(graph,'S','G')\n",
    "print(solution)"
   ]
  }
 ],
 "metadata": {
  "kernelspec": {
   "display_name": "Python 3 (ipykernel)",
   "language": "python",
   "name": "python3"
  },
  "language_info": {
   "codemirror_mode": {
    "name": "ipython",
    "version": 3
   },
   "file_extension": ".py",
   "mimetype": "text/x-python",
   "name": "python",
   "nbconvert_exporter": "python",
   "pygments_lexer": "ipython3",
   "version": "3.11.5"
  }
 },
 "nbformat": 4,
 "nbformat_minor": 5
}
